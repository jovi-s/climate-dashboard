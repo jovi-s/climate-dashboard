{
 "cells": [
  {
   "cell_type": "code",
   "execution_count": null,
   "metadata": {},
   "outputs": [],
   "source": [
    "climate_action_tracker_countries = [\n",
    "    \"Argentina\",\n",
    "    \"Australia\",\n",
    "    \"Bhutan\",\n",
    "    \"Brazil\",\n",
    "    \"Canada\",\n",
    "    \"Chile\",\n",
    "    \"China\",\n",
    "    \"Colombia\",\n",
    "    \"Costa Rica\",\n",
    "    \"EU\",\n",
    "    \"Egypt\",\n",
    "    \"Ethiopia\",\n",
    "    \"Gabon\",\n",
    "    \"Germany\",\n",
    "    \"India\",\n",
    "    \"Indonesia\",\n",
    "    \"Iran (Islamic Republic of)\",\n",
    "    \"Japan\",\n",
    "    \"Kazakhstan\",\n",
    "    \"Kenya\",\n",
    "    \"Mexico\",\n",
    "    \"Morocco\",\n",
    "    \"Nepal\",\n",
    "    \"New Zealand\",\n",
    "    \"Nigeria\",\n",
    "    \"Norway\",\n",
    "    \"Peru\",\n",
    "    \"Philippines\",\n",
    "    \"Russian Federation\",\n",
    "    \"Saudi Arabia\",\n",
    "    \"Singapore\",\n",
    "    \"South Africa\",\n",
    "    \"South Korea\",\n",
    "    \"Switzerland\",\n",
    "    \"Thailand\",\n",
    "    \"The Gambia\",\n",
    "    \"Türkiye\",\n",
    "    \"UAE\",\n",
    "    \"USA\",\n",
    "    \"Ukraine\",\n",
    "    \"United Kingdom\",\n",
    "    \"Viet Nam\"\n",
    "]"
   ]
  },
  {
   "cell_type": "code",
   "execution_count": null,
   "metadata": {},
   "outputs": [],
   "source": [
    "data_download_button = '<a download=\"\" target=\"_blank\" class=\"dropdown-item\" href=\"/media/images/CAT_2023-11u_Graph_SplitSummary_Japan.original.png\">Graph (PNG)</a>'\n",
    "\n",
    "images_url_start = \"https://climateactiontracker.org\""
   ]
  },
  {
   "cell_type": "code",
   "execution_count": 10,
   "metadata": {},
   "outputs": [
    {
     "name": "stdout",
     "output_type": "stream",
     "text": [
      "Relative href: /media/images/CAT_2024-02_Graph_2030Gaps_EU.original.png\n",
      "Absolute URL: https://climateactiontracker.org/media/images/CAT_2024-02_Graph_2030Gaps_EU.original.png\n"
     ]
    },
    {
     "data": {
      "text/plain": [
       "('/media/images/CAT_2024-02_Graph_2030Gaps_EU.original.png',\n",
       " 'https://climateactiontracker.org/media/images/CAT_2024-02_Graph_2030Gaps_EU.original.png')"
      ]
     },
     "execution_count": 10,
     "metadata": {},
     "output_type": "execute_result"
    }
   ],
   "source": [
    "import requests\n",
    "from bs4 import BeautifulSoup\n",
    "from urllib.parse import urljoin\n",
    "\n",
    "# Target URL\n",
    "BASE_URL = 'https://climateactiontracker.org/countries/eu/'\n",
    "\n",
    "def fetch_and_extract_href(url):\n",
    "    try:\n",
    "        response = requests.get(url)\n",
    "        response.raise_for_status()\n",
    "        soup = BeautifulSoup(response.text, 'html.parser')\n",
    "\n",
    "        # Locate the <div> with data-component-graph-embed\n",
    "        graph_div = soup.find('div', attrs={'data-component-graph-embed': True})\n",
    "        if graph_div:\n",
    "            # Extract the 'data-props-graph-hires-image-url'\n",
    "            relative_href = graph_div.get('data-props-graph-hires-image-url')\n",
    "            if relative_href:\n",
    "                absolute_href = urljoin(url, relative_href)\n",
    "                print(f\"Relative href: {relative_href}\")\n",
    "                print(f\"Absolute URL: {absolute_href}\")\n",
    "                return relative_href, absolute_href\n",
    "            else:\n",
    "                print(\"'data-props-graph-hires-image-url' attribute not found.\")\n",
    "        else:\n",
    "            print(\"<div> with 'data-component-graph-embed' not found.\")\n",
    "    except requests.exceptions.RequestException as e:\n",
    "        print(f\"Request failed: {e}\")\n",
    "\n",
    "    return None, None\n",
    "\n",
    "\n",
    "fetch_and_extract_href(BASE_URL)"
   ]
  },
  {
   "cell_type": "code",
   "execution_count": null,
   "metadata": {},
   "outputs": [],
   "source": []
  }
 ],
 "metadata": {
  "kernelspec": {
   "display_name": ".venv",
   "language": "python",
   "name": "python3"
  },
  "language_info": {
   "codemirror_mode": {
    "name": "ipython",
    "version": 3
   },
   "file_extension": ".py",
   "mimetype": "text/x-python",
   "name": "python",
   "nbconvert_exporter": "python",
   "pygments_lexer": "ipython3",
   "version": "3.12.6"
  }
 },
 "nbformat": 4,
 "nbformat_minor": 2
}
