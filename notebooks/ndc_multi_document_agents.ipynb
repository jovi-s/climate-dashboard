{
  "cells": [
    {
      "cell_type": "markdown",
      "id": "43497beb-817d-4366-9156-f4d7f0d44942",
      "metadata": {
        "id": "43497beb-817d-4366-9156-f4d7f0d44942"
      },
      "source": [
        "# Multi-Document Agents\n",
        "\n",
        "https://docs.llamaindex.ai/en/stable/examples/agent/multi_document_agents\n",
        "\n",
        "In this guide, you learn towards setting up an agent that can effectively answer different types of questions over a larger set of documents.\n",
        "\n",
        "These questions include the following\n",
        "\n",
        "- QA over a specific doc\n",
        "- QA comparing different docs\n",
        "- Summaries over a specific doc\n",
        "- Comparing summaries between different docs\n",
        "\n",
        "We do this with the following architecture:\n",
        "\n",
        "- setup a \"document agent\" over each Document: each doc agent can do QA/summarization within its doc\n",
        "- setup a top-level agent over this set of document agents. Do tool retrieval and then do CoT over the set of tools to answer a question."
      ]
    },
    {
      "cell_type": "markdown",
      "id": "9be00aba-b6c5-4940-9825-81c5d2cd2f0b",
      "metadata": {
        "id": "9be00aba-b6c5-4940-9825-81c5d2cd2f0b"
      },
      "source": [
        "## Setup and Download Data\n",
        "\n",
        "In this section, we'll define imports and then download Wikipedia articles about different cities. Each article is stored separately.\n",
        "\n",
        "We load in 18 cities - this is not quite at the level of \"hundreds\" of documents but its still large enough to warrant some top-level document retrieval!"
      ]
    },
    {
      "cell_type": "markdown",
      "id": "5d81f93c",
      "metadata": {
        "id": "5d81f93c"
      },
      "source": [
        "If you're opening this Notebook on colab, you will probably need to install LlamaIndex 🦙."
      ]
    },
    {
      "cell_type": "code",
      "execution_count": null,
      "id": "4110483a",
      "metadata": {
        "id": "4110483a"
      },
      "outputs": [],
      "source": [
        "%pip install llama-index-agent-openai\n",
        "%pip install llama-index-embeddings-openai\n",
        "%pip install llama-index-llms-openai"
      ]
    },
    {
      "cell_type": "code",
      "execution_count": null,
      "id": "f0fb1340",
      "metadata": {
        "id": "f0fb1340"
      },
      "outputs": [],
      "source": [
        "!pip install llama-index"
      ]
    },
    {
      "cell_type": "code",
      "execution_count": 3,
      "id": "e3630309",
      "metadata": {},
      "outputs": [
        {
          "name": "stdout",
          "output_type": "stream",
          "text": [
            "ndc_multi_document_agents.ipynb plot_earthkit.ipynb\n",
            "plot_data_graphs.ipynb          plot_graphs_excel.ipynb\n"
          ]
        }
      ],
      "source": [
        "!ls"
      ]
    },
    {
      "cell_type": "code",
      "execution_count": 4,
      "id": "9d5becac",
      "metadata": {},
      "outputs": [],
      "source": [
        "import os\n",
        "\n",
        "os.chdir(\"/Users/josingh/hobby/climate-dashboard\")"
      ]
    },
    {
      "cell_type": "code",
      "execution_count": 5,
      "id": "e41e9905-77a9-44c5-88ac-c7a4d08a4612",
      "metadata": {
        "id": "e41e9905-77a9-44c5-88ac-c7a4d08a4612"
      },
      "outputs": [],
      "source": [
        "from llama_index.core import (\n",
        "    VectorStoreIndex,\n",
        "    SimpleKeywordTableIndex,\n",
        "    SimpleDirectoryReader,\n",
        ")\n",
        "from llama_index.core import SummaryIndex\n",
        "from llama_index.core.schema import IndexNode\n",
        "from llama_index.core.tools import QueryEngineTool, ToolMetadata\n",
        "from llama_index.llms.openai import OpenAI\n",
        "from llama_index.core.callbacks import CallbackManager"
      ]
    },
    {
      "cell_type": "code",
      "execution_count": 2,
      "id": "bd19dbc3",
      "metadata": {},
      "outputs": [],
      "source": [
        "ndc_file_name_path_mapping = {\n",
        "    'Cambodia': 'data/ndc/20201231_NDC_Update_Cambodia.pdf', \n",
        "    'Myanmar': 'data/ndc/Myanmar Updated  NDC July 2021.pdf', \n",
        "    'Laos': 'data/ndc/NDC 2020 of Lao PDR (English), 09 April 2021 (1).pdf', \n",
        "    'Singapore': 'data/ndc/Singapore Second Update of First NDC.pdf', \n",
        "    'Brunei': \"data/ndc/Brunei Darussalam's NDC 2020.pdf\", \n",
        "    'Vietnam': 'data/ndc/Viet Nam NDC 2022 Update.pdf', \n",
        "    'Malaysia': 'data/ndc/Malaysia NDC Updated Submission to UNFCCC July 2021 final.pdf', \n",
        "    'Indonesia': 'data/ndc/ENDC Indonesia.pdf'\n",
        "}\n",
        "\n",
        "sea_countries = list(ndc_file_name_path_mapping.keys())"
      ]
    },
    {
      "cell_type": "code",
      "execution_count": 3,
      "id": "464eb317",
      "metadata": {},
      "outputs": [
        {
          "data": {
            "text/plain": [
              "['Cambodia',\n",
              " 'Myanmar',\n",
              " 'Laos',\n",
              " 'Singapore',\n",
              " 'Brunei',\n",
              " 'Vietnam',\n",
              " 'Malaysia',\n",
              " 'Indonesia']"
            ]
          },
          "execution_count": 3,
          "metadata": {},
          "output_type": "execute_result"
        }
      ],
      "source": [
        "sea_countries"
      ]
    },
    {
      "cell_type": "code",
      "execution_count": null,
      "id": "5bf0c13b-0d77-43e8-8c1c-84258299a494",
      "metadata": {
        "id": "5bf0c13b-0d77-43e8-8c1c-84258299a494"
      },
      "outputs": [],
      "source": [
        "# Load all country documents\n",
        "country_docs = {}\n",
        "for country in sea_countries:\n",
        "    country_docs[country] = SimpleDirectoryReader(\n",
        "        input_files=[ndc_file_name_path_mapping[country]]\n",
        "    ).load_data()"
      ]
    },
    {
      "cell_type": "markdown",
      "id": "6189aaf4-2eb7-40bc-9e83-79ce4f221b4b",
      "metadata": {
        "id": "6189aaf4-2eb7-40bc-9e83-79ce4f221b4b"
      },
      "source": [
        "Define Global LLM and Embeddings"
      ]
    },
    {
      "cell_type": "code",
      "execution_count": 8,
      "id": "dd6e5e48-91b9-4701-a85d-d98c92323350",
      "metadata": {
        "id": "dd6e5e48-91b9-4701-a85d-d98c92323350"
      },
      "outputs": [],
      "source": [
        "from llama_index.llms.openai import OpenAI\n",
        "from llama_index.embeddings.openai import OpenAIEmbedding\n",
        "from llama_index.core import Settings\n",
        "\n",
        "Settings.llm = OpenAI(temperature=0, model=\"gpt-4o-mini\")\n",
        "Settings.embed_model = OpenAIEmbedding(model=\"text-embedding-3-small\")"
      ]
    },
    {
      "cell_type": "markdown",
      "id": "4eeef31a-fc25-4367-a5ba-945f81d04cf9",
      "metadata": {
        "id": "4eeef31a-fc25-4367-a5ba-945f81d04cf9"
      },
      "source": [
        "## Building Multi-Document Agents\n",
        "\n",
        "In this section we show you how to construct the multi-document agent. We first build a document agent for each document, and then define the top-level parent agent with an object index."
      ]
    },
    {
      "cell_type": "markdown",
      "id": "976cd798-2e8d-474c-922a-51b12c5c6f36",
      "metadata": {
        "id": "976cd798-2e8d-474c-922a-51b12c5c6f36"
      },
      "source": [
        "### Build Document Agent for each Document\n",
        "\n",
        "In this section we define \"document agents\" for each document.\n",
        "\n",
        "We define both a vector index (for semantic search) and summary index (for summarization) for each document. The two query engines are then converted into tools that are passed to an OpenAI function calling agent.\n",
        "\n",
        "This document agent can dynamically choose to perform semantic search or summarization within a given document.\n",
        "\n",
        "We create a separate document agent for each city."
      ]
    },
    {
      "cell_type": "code",
      "execution_count": 9,
      "id": "eacdf3a7-cfe3-4c2b-9037-b28a065ed148",
      "metadata": {
        "id": "eacdf3a7-cfe3-4c2b-9037-b28a065ed148"
      },
      "outputs": [],
      "source": [
        "from llama_index.agent.openai import OpenAIAgent\n",
        "from llama_index.core import load_index_from_storage, StorageContext\n",
        "from llama_index.core.node_parser import SentenceSplitter\n",
        "import os\n",
        "\n",
        "node_parser = SentenceSplitter()\n",
        "\n",
        "# Build agents dictionary\n",
        "agents = {}\n",
        "query_engines = {}\n",
        "\n",
        "# this is for the baseline\n",
        "all_nodes = []\n",
        "\n",
        "for idx, country in enumerate(sea_countries):\n",
        "    nodes = node_parser.get_nodes_from_documents(country_docs[country])\n",
        "    all_nodes.extend(nodes)\n",
        "\n",
        "    if not os.path.exists(f\"./data/vector_store/ndc/{country}\"):\n",
        "        # build vector index\n",
        "        vector_index = VectorStoreIndex(nodes)\n",
        "        vector_index.storage_context.persist(\n",
        "            persist_dir=f\"./data/{country}\"\n",
        "        )\n",
        "    else:\n",
        "        vector_index = load_index_from_storage(\n",
        "            StorageContext.from_defaults(persist_dir=f\"./data/vector_store/ndc/{country}\"),\n",
        "        )\n",
        "\n",
        "    # build summary index\n",
        "    summary_index = SummaryIndex(nodes)\n",
        "    # define query engines\n",
        "    vector_query_engine = vector_index.as_query_engine(llm=Settings.llm)\n",
        "    summary_query_engine = summary_index.as_query_engine(llm=Settings.llm)\n",
        "\n",
        "    # define tools\n",
        "    query_engine_tools = [\n",
        "        QueryEngineTool(\n",
        "            query_engine=vector_query_engine,\n",
        "            metadata=ToolMetadata(\n",
        "                name=\"vector_tool\",\n",
        "                description=(\n",
        "                    \"Useful for questions related to specific aspects of\"\n",
        "                    f\" {country}.\"\n",
        "                ),\n",
        "            ),\n",
        "        ),\n",
        "        QueryEngineTool(\n",
        "            query_engine=summary_query_engine,\n",
        "            metadata=ToolMetadata(\n",
        "                name=\"summary_tool\",\n",
        "                description=(\n",
        "                    \"Useful for any requests that require a holistic summary\"\n",
        "                    f\" of EVERYTHING about {country}. For questions about\"\n",
        "                    \" more specific sections, please use the vector_tool.\"\n",
        "                ),\n",
        "            ),\n",
        "        ),\n",
        "    ]\n",
        "\n",
        "    # build agent\n",
        "    function_llm = OpenAI(model=\"gpt-4o-mini\")\n",
        "    agent = OpenAIAgent.from_tools(\n",
        "        query_engine_tools,\n",
        "        llm=function_llm,\n",
        "        verbose=True,\n",
        "        system_prompt=f\"\"\"\\\n",
        "You are a specialized agent designed to answer queries about {country}.\n",
        "You must ALWAYS use at least one of the tools provided when answering a question; do NOT rely on prior knowledge.\\\n",
        "\"\"\",\n",
        "    )\n",
        "\n",
        "    agents[country] = agent\n",
        "    query_engines[country] = vector_index.as_query_engine(\n",
        "        similarity_top_k=2\n",
        "    )"
      ]
    },
    {
      "cell_type": "markdown",
      "id": "899ca55b-0c02-429b-a765-8e4f806d503f",
      "metadata": {
        "id": "899ca55b-0c02-429b-a765-8e4f806d503f"
      },
      "source": [
        "### Build Retriever-Enabled OpenAI Agent\n",
        "\n",
        "We build a top-level agent that can orchestrate across the different document agents to answer any user query.\n",
        "\n",
        "This agent takes in all document agents as tools. This specific agent `RetrieverOpenAIAgent` performs tool retrieval before tool use (unlike a default agent that tries to put all tools in the prompt).\n",
        "\n",
        "Here we use a top-k retriever, but we encourage you to customize the tool retriever method!\n"
      ]
    },
    {
      "cell_type": "code",
      "execution_count": 10,
      "id": "6884ff15-bf40-4bdd-a1e3-58cbd056a12a",
      "metadata": {
        "id": "6884ff15-bf40-4bdd-a1e3-58cbd056a12a"
      },
      "outputs": [],
      "source": [
        "# define tool for each document agent\n",
        "all_tools = []\n",
        "for country in sea_countries:\n",
        "    country_summary = (\n",
        "        f\"This content contains Nationally Determined Contributions for {country}. Use\"\n",
        "        f\" this tool if you want to answer any questions about {country}.\\n\"\n",
        "    )\n",
        "    doc_tool = QueryEngineTool(\n",
        "        query_engine=agents[country],\n",
        "        metadata=ToolMetadata(\n",
        "            name=f\"tool_{country}\",\n",
        "            description=country_summary,\n",
        "        ),\n",
        "    )\n",
        "    all_tools.append(doc_tool)"
      ]
    },
    {
      "cell_type": "code",
      "execution_count": 11,
      "id": "da80793c-54b9-43e2-b34a-27412156268a",
      "metadata": {
        "id": "da80793c-54b9-43e2-b34a-27412156268a"
      },
      "outputs": [],
      "source": [
        "# define an \"object\" index and retriever over these tools\n",
        "from llama_index.core import VectorStoreIndex\n",
        "from llama_index.core.objects import ObjectIndex\n",
        "\n",
        "obj_index = ObjectIndex.from_objects(\n",
        "    all_tools,\n",
        "    index_cls=VectorStoreIndex,\n",
        ")"
      ]
    },
    {
      "cell_type": "code",
      "execution_count": 12,
      "id": "fed38942-1e37-4c61-89fa-d2ef41151831",
      "metadata": {
        "id": "fed38942-1e37-4c61-89fa-d2ef41151831"
      },
      "outputs": [],
      "source": [
        "from llama_index.agent.openai import OpenAIAgent\n",
        "\n",
        "top_agent = OpenAIAgent.from_tools(\n",
        "    tool_retriever=obj_index.as_retriever(similarity_top_k=3),\n",
        "    system_prompt=\"\"\" \\\n",
        "You are an agent designed to answer queries about a set of given South East Asia countries.\n",
        "Please always use the tools provided to answer a question. Do not rely on prior knowledge.\\\n",
        "\n",
        "\"\"\",\n",
        "    verbose=True,\n",
        ")"
      ]
    },
    {
      "cell_type": "markdown",
      "id": "8dedb927-a992-4f21-a0fb-4ce4361adcb3",
      "metadata": {
        "id": "8dedb927-a992-4f21-a0fb-4ce4361adcb3"
      },
      "source": [
        "## Running Example Queries\n",
        "\n",
        "Let's run some example queries, ranging from QA / summaries over a single document to QA / summarization over multiple documents."
      ]
    },
    {
      "cell_type": "code",
      "execution_count": 14,
      "id": "8e743c62-7dd8-4ac9-85a5-f1cbc112a79c",
      "metadata": {
        "id": "8e743c62-7dd8-4ac9-85a5-f1cbc112a79c",
        "outputId": "af055e07-7793-49c9-9108-bb46a7a04d5c"
      },
      "outputs": [
        {
          "name": "stdout",
          "output_type": "stream",
          "text": [
            "Added user message to memory: Tell me about the NDCs of Singapore\n",
            "=== Calling Function ===\n",
            "Calling function: tool_Singapore with args: {\"input\":\"NDCs\"}\n",
            "Added user message to memory: NDCs\n",
            "=== Calling Function ===\n",
            "Calling function: vector_tool with args: {\"input\":\"NDCs in Singapore\"}\n",
            "Got output: Singapore's Nationally Determined Contributions (NDCs) focus on an economy-wide absolute greenhouse gas (GHG) emissions limitation target. The NDC does not include non-greenhouse gas components or climate forcers not covered by IPCC guidelines. Additionally, the NDC does not reference any baseline for its target, which aims to peak and subsequently reduce emissions to an absolute level.\n",
            "========================\n",
            "\n",
            "Got output: Singapore's Nationally Determined Contributions (NDCs) emphasize an economy-wide absolute greenhouse gas (GHG) emissions limitation target. The NDC does not include non-greenhouse gas components or climate forcers outside the IPCC guidelines, and it does not specify a baseline for its target. The aim is to peak and subsequently reduce emissions to an absolute level.\n",
            "========================\n",
            "\n"
          ]
        }
      ],
      "source": [
        "# should use Boston agent -> vector tool\n",
        "response = top_agent.query(\"Tell me about the NDCs of Singapore\")"
      ]
    },
    {
      "cell_type": "code",
      "execution_count": 15,
      "id": "a4ce2a76-5779-4acf-9337-69109dae7fd6",
      "metadata": {
        "id": "a4ce2a76-5779-4acf-9337-69109dae7fd6",
        "outputId": "1a3911d1-ed1c-4d95-fa8c-0d39d07290ff"
      },
      "outputs": [
        {
          "name": "stdout",
          "output_type": "stream",
          "text": [
            "Singapore's Nationally Determined Contributions (NDCs) focus on an economy-wide absolute greenhouse gas (GHG) emissions limitation target. The NDC does not include non-greenhouse gas components or climate forcers outside the IPCC guidelines, and it does not specify a baseline for its target. The primary goal is to peak and subsequently reduce emissions to an absolute level.\n"
          ]
        }
      ],
      "source": [
        "print(response)"
      ]
    },
    {
      "cell_type": "code",
      "execution_count": 17,
      "id": "aa3d98ab-cb82-4473-ab2b-bc8a17e1b86a",
      "metadata": {
        "id": "aa3d98ab-cb82-4473-ab2b-bc8a17e1b86a",
        "outputId": "a373bdb1-c2d4-4fce-8a42-b5925271138b"
      },
      "outputs": [
        {
          "name": "stdout",
          "output_type": "stream",
          "text": [
            "Added user message to memory: Give me a summary of all positive aspects of Singapore's NDC\n",
            "=== Calling Function ===\n",
            "Calling function: tool_Singapore with args: {\"input\":\"positive aspects of NDC\"}\n",
            "Added user message to memory: positive aspects of NDC\n",
            "=== Calling Function ===\n",
            "Calling function: vector_tool with args: {\"input\":\"positive aspects of NDC Singapore\"}\n",
            "Got output: Singapore's Nationally Determined Contributions (NDC) highlight several positive aspects, including:\n",
            "\n",
            "1. **Strong Performance in Carbon Intensity**: Singapore is recognized as one of the top performers globally in terms of carbon intensity, reflecting its commitment to environmentally responsible growth despite its small share of global GDP.\n",
            "\n",
            "2. **Energy Efficiency Initiatives**: The country emphasizes energy efficiency as a key strategy for emissions reduction, encouraging industries to adopt energy-efficient technologies and cleaner fuel sources through strong pollution control laws and government support.\n",
            "\n",
            "3. **Investment in Research and Development**: Significant investments are being made in research and development to harness low-carbon technologies, which positions Singapore to continue its sustainable growth trajectory.\n",
            "\n",
            "4. **International Cooperation**: Singapore actively fosters international cooperation on climate action, supporting developing countries in building their climate capacity and participating in multilateral frameworks like the UNFCCC.\n",
            "\n",
            "5. **Capacity-Building Programs**: The Singapore Cooperation Programme has successfully engaged a large number of officials from developing countries in capacity-building initiatives, enhancing global efforts in sustainable development and climate resilience.\n",
            "\n",
            "6. **Dedicated Climate Action Package**: The launch of the Climate Action Package and its successor, the Sustainability Action Package, demonstrates Singapore's commitment to addressing climate change through targeted support in various critical areas.\n",
            "\n",
            "7. **Commitment to Emission Reduction Targets**: Despite its limited options for large-scale renewable energy deployment, Singapore aims to reduce its emissions significantly, showcasing a proactive approach to climate change mitigation.\n",
            "========================\n",
            "\n",
            "Got output: The positive aspects of Singapore's Nationally Determined Contributions (NDC) include:\n",
            "\n",
            "1. **Strong Performance in Carbon Intensity**: Singapore is recognized as a top performer globally in carbon intensity, reflecting its commitment to environmentally responsible growth.\n",
            "\n",
            "2. **Energy Efficiency Initiatives**: The country emphasizes energy efficiency as a key strategy for emissions reduction, encouraging industries to adopt cleaner technologies and fuels.\n",
            "\n",
            "3. **Investment in Research and Development**: Significant investments in low-carbon technologies position Singapore for sustainable growth.\n",
            "\n",
            "4. **International Cooperation**: Singapore actively fosters international cooperation on climate action, supporting developing countries and participating in multilateral frameworks.\n",
            "\n",
            "5. **Capacity-Building Programs**: The Singapore Cooperation Programme enhances global efforts in sustainable development through capacity-building initiatives.\n",
            "\n",
            "6. **Dedicated Climate Action Package**: The launch of the Climate Action Package demonstrates Singapore's commitment to addressing climate change through targeted support.\n",
            "\n",
            "7. **Commitment to Emission Reduction Targets**: Singapore aims to significantly reduce its emissions, showcasing a proactive approach to climate change mitigation.\n",
            "========================\n",
            "\n"
          ]
        }
      ],
      "source": [
        "# should use Houston agent -> vector tool\n",
        "response = top_agent.query(\n",
        "    \"Give me a summary of all positive aspects of Singapore's NDC\"\n",
        ")"
      ]
    },
    {
      "cell_type": "code",
      "execution_count": 19,
      "id": "d476c54b-98af-4d2a-8f17-4baa37d0d360",
      "metadata": {
        "id": "d476c54b-98af-4d2a-8f17-4baa37d0d360",
        "outputId": "6d236629-f080-4aa3-9a42-533ac55843f3"
      },
      "outputs": [
        {
          "name": "stdout",
          "output_type": "stream",
          "text": [
            "The positive aspects of Singapore's Nationally Determined Contributions (NDC) include:\n",
            "\n",
            "1. **Strong Performance in Carbon Intensity**: Singapore is recognized as a top performer globally in carbon intensity, reflecting its commitment to environmentally responsible growth.\n",
            "\n",
            "2. **Energy Efficiency Initiatives**: The country emphasizes energy efficiency as a key strategy for emissions reduction, encouraging industries to adopt cleaner technologies and fuels.\n",
            "\n",
            "3. **Investment in Research and Development**: Significant investments in low-carbon technologies position Singapore for sustainable growth.\n",
            "\n",
            "4. **International Cooperation**: Singapore actively fosters international cooperation on climate action, supporting developing countries and participating in multilateral frameworks.\n",
            "\n",
            "5. **Capacity-Building Programs**: The Singapore Cooperation Programme enhances global efforts in sustainable development through capacity-building initiatives.\n",
            "\n",
            "6. **Dedicated Climate Action Package**: The launch of the Climate Action Package demonstrates Singapore's commitment to addressing climate change through targeted support.\n",
            "\n",
            "7. **Commitment to Emission Reduction Targets**: Singapore aims to significantly reduce its emissions, showcasing a proactive approach to climate change mitigation.\n"
          ]
        }
      ],
      "source": [
        "print(response)"
      ]
    },
    {
      "cell_type": "code",
      "execution_count": 22,
      "id": "ee6ef20c-3ccc-46c3-ad87-667138d78d5d",
      "metadata": {
        "id": "ee6ef20c-3ccc-46c3-ad87-667138d78d5d",
        "outputId": "7b917ec1-72be-4626-a6db-1da51f524c79"
      },
      "outputs": [
        {
          "name": "stdout",
          "output_type": "stream",
          "text": [
            "Added user message to memory: Tell the NDCs of Singapore, and then compare that with the NDCs of Malaysia\n",
            "=== Calling Function ===\n",
            "Calling function: tool_Singapore with args: {\"input\": \"Nationally Determined Contributions\"}\n",
            "Added user message to memory: Nationally Determined Contributions\n",
            "=== Calling Function ===\n",
            "Calling function: vector_tool with args: {\"input\":\"Nationally Determined Contributions Singapore\"}\n",
            "Got output: Singapore's Nationally Determined Contributions (NDC) reflect its commitment to the Paris Agreement and the multilateral framework for addressing climate change. The country aims to achieve its mitigation objectives primarily through domestic emissions reduction while also exploring opportunities for international cooperation under Article 6 of the Paris Agreement. This includes the potential use of internationally transferred mitigation outcomes (ITMOs), ensuring environmental integrity throughout the process. The NDC incorporates specific assumptions and methodologies for accounting progress in its Biennial Update Report or Biennial Transparency Report.\n",
            "========================\n",
            "\n",
            "Got output: Singapore's Nationally Determined Contributions (NDC) demonstrate its commitment to the Paris Agreement and the global effort to combat climate change. The country focuses on achieving its emissions reduction goals primarily through domestic measures, while also considering international cooperation under Article 6 of the Paris Agreement. This may involve the use of internationally transferred mitigation outcomes (ITMOs), with a strong emphasis on maintaining environmental integrity. The NDC outlines specific assumptions and methodologies for tracking progress, which are reported in its Biennial Update Report or Biennial Transparency Report.\n",
            "========================\n",
            "\n",
            "=== Calling Function ===\n",
            "Calling function: tool_Malaysia with args: {\"input\": \"Nationally Determined Contributions\"}\n",
            "Added user message to memory: Nationally Determined Contributions\n",
            "=== Calling Function ===\n",
            "Calling function: vector_tool with args: {\"input\":\"Nationally Determined Contributions Malaysia\"}\n",
            "Got output: Malaysia's Nationally Determined Contribution (NDC) aims to reduce its economy-wide carbon intensity by 45% by 2030 compared to 2005 levels. This target is unconditional and represents a 10% increase from the previous submission. The NDC covers seven greenhouse gases: carbon dioxide (CO2), methane (CH4), nitrous oxide (N2O), hydrofluorocarbons (HFCs), perfluorocarbons (PFCs), sulphur hexafluoride (SF6), and nitrogen trifluoride (NF3). The development of the NDC involved a participatory process with various stakeholders, including government agencies, NGOs, and the private sector, and it has been endorsed by the National Steering Committee on Climate Change and approved by the Malaysian Cabinet.\n",
            "========================\n",
            "\n",
            "Got output: Malaysia's Nationally Determined Contribution (NDC) aims to reduce its economy-wide carbon intensity by 45% by 2030 compared to 2005 levels. This target is unconditional and represents a 10% increase from the previous submission. The NDC addresses seven greenhouse gases: carbon dioxide (CO2), methane (CH4), nitrous oxide (N2O), hydrofluorocarbons (HFCs), perfluorocarbons (PFCs), sulphur hexafluoride (SF6), and nitrogen trifluoride (NF3). The development of the NDC involved a participatory process with various stakeholders, including government agencies, NGOs, and the private sector, and it has been endorsed by the National Steering Committee on Climate Change and approved by the Malaysian Cabinet.\n",
            "========================\n",
            "\n"
          ]
        }
      ],
      "source": [
        "response = top_agent.query(\n",
        "    \"Tell me the NDCs of Singapore, and then compare that with the\"\n",
        "    \" NDCs of Malaysia\"\n",
        ")"
      ]
    },
    {
      "cell_type": "code",
      "execution_count": 23,
      "id": "cfe1dd4c-8bfd-43d0-99bc-ca60861dc418",
      "metadata": {
        "id": "cfe1dd4c-8bfd-43d0-99bc-ca60861dc418",
        "outputId": "dfea64ae-db72-42a9-c2a2-7aa6b8d0270a"
      },
      "outputs": [
        {
          "name": "stdout",
          "output_type": "stream",
          "text": [
            "### Nationally Determined Contributions (NDCs)\n",
            "\n",
            "**Singapore:**\n",
            "- Singapore's NDC demonstrates its commitment to the Paris Agreement and the global effort to combat climate change.\n",
            "- The country focuses on achieving its emissions reduction goals primarily through domestic measures, while also considering international cooperation under Article 6 of the Paris Agreement.\n",
            "- This may involve the use of internationally transferred mitigation outcomes (ITMOs), with a strong emphasis on maintaining environmental integrity.\n",
            "- The NDC outlines specific assumptions and methodologies for tracking progress, which are reported in its Biennial Update Report or Biennial Transparency Report.\n",
            "\n",
            "**Malaysia:**\n",
            "- Malaysia's NDC aims to reduce its economy-wide carbon intensity by 45% by 2030 compared to 2005 levels.\n",
            "- This target is unconditional and represents a 10% increase from the previous submission.\n",
            "- The NDC addresses seven greenhouse gases: carbon dioxide (CO2), methane (CH4), nitrous oxide (N2O), hydrofluorocarbons (HFCs), perfluorocarbons (PFCs), sulphur hexafluoride (SF6), and nitrogen trifluoride (NF3).\n",
            "- The development of the NDC involved a participatory process with various stakeholders, including government agencies, NGOs, and the private sector, and it has been endorsed by the National Steering Committee on Climate Change and approved by the Malaysian Cabinet.\n",
            "\n",
            "### Comparison:\n",
            "- **Focus Areas:** Singapore emphasizes domestic measures and international cooperation, while Malaysia has a specific target for reducing carbon intensity and involves a broader range of greenhouse gases.\n",
            "- **Targets:** Singapore's NDC is more about maintaining environmental integrity and tracking progress, whereas Malaysia has a quantifiable target of reducing carbon intensity by 45% by 2030.\n",
            "- **Stakeholder Involvement:** Malaysia's NDC development involved a participatory process with various stakeholders, indicating a collaborative approach, while Singapore's approach seems more focused on its own methodologies and reporting.\n"
          ]
        }
      ],
      "source": [
        "print(response)"
      ]
    },
    {
      "cell_type": "code",
      "execution_count": 26,
      "id": "5b7e0a4c-b7be-4797-9c82-1577693bd117",
      "metadata": {
        "id": "5b7e0a4c-b7be-4797-9c82-1577693bd117",
        "outputId": "157025fc-c012-46ba-9d98-e9473e32a618"
      },
      "outputs": [
        {
          "name": "stdout",
          "output_type": "stream",
          "text": [
            "Added user message to memory: Tell me the differences between Malaysia's and Indonesia's NDCs in terms of meeting their climate targets.\n",
            "=== Calling Function ===\n",
            "Calling function: tool_Malaysia with args: {\"input\": \"differences in climate targets and NDCs\"}\n",
            "Added user message to memory: differences in climate targets and NDCs\n",
            "=== Calling Function ===\n",
            "Calling function: vector_tool with args: {\"input\":\"differences in climate targets and NDCs in Malaysia\"}\n",
            "Got output: Malaysia's updated Nationally Determined Contribution (NDC) reflects a commitment to reduce its economy-wide carbon intensity by 45% by 2030 compared to 2005 levels. This target represents an increase of 10% from the previous submission. The updated NDC also expands the greenhouse gas coverage to include seven gases: carbon dioxide, methane, nitrous oxide, hydrofluorocarbons, perfluorocarbons, sulfur hexafluoride, and nitrogen trifluoride. \n",
            "\n",
            "In terms of fairness and ambition, Malaysia considers its NDC to be aligned with its national circumstances, particularly given the significance of the oil and gas industry to its economy. The updated NDC is unconditional, indicating that the country will pursue these targets through domestic measures without reliance on voluntary cooperation under Article 6 of the Paris Agreement. \n",
            "\n",
            "Overall, the differences in climate targets and NDCs in Malaysia highlight a progressive approach to emissions reduction while addressing the unique economic context of the country.\n",
            "========================\n",
            "\n",
            "Got output: In Malaysia, the differences in climate targets and Nationally Determined Contributions (NDCs) are significant. The updated NDC commits to reducing the country's economy-wide carbon intensity by 45% by 2030 compared to 2005 levels, which is a 10% increase from the previous submission. This updated NDC also expands the greenhouse gas coverage to include seven gases: carbon dioxide, methane, nitrous oxide, hydrofluorocarbons, perfluorocarbons, sulfur hexafluoride, and nitrogen trifluoride.\n",
            "\n",
            "Malaysia's NDC is considered to be aligned with its national circumstances, particularly due to the importance of the oil and gas industry to its economy. The updated NDC is unconditional, meaning that Malaysia will pursue these targets through domestic measures without relying on voluntary cooperation under Article 6 of the Paris Agreement.\n",
            "\n",
            "Overall, these differences reflect Malaysia's progressive approach to emissions reduction while addressing its unique economic context.\n",
            "========================\n",
            "\n",
            "=== Calling Function ===\n",
            "Calling function: tool_Indonesia with args: {\"input\": \"differences in climate targets and NDCs\"}\n",
            "Added user message to memory: differences in climate targets and NDCs\n",
            "=== Calling Function ===\n",
            "Calling function: vector_tool with args: {\"input\":\"differences in climate targets and NDCs in Indonesia\"}\n",
            "Got output: Indonesia's climate targets and Nationally Determined Contributions (NDCs) have evolved over time, reflecting an increasing ambition in addressing climate change. The initial Intended Nationally Determined Contribution (INDC) set a baseline with a Business as Usual (BAU) scenario of 2.881 GtCO2-eq, which was slightly reduced to 2.869 GtCO2-eq in the subsequent NDC. The NDC emphasized significant mitigation targets, particularly in the forest, land use, and energy sectors, which together account for about 97% of the national commitment.\n",
            "\n",
            "In 2021, an Updated NDC was submitted, showcasing enhanced ambition in adaptation strategies and improved clarity on mitigation efforts. This included aligning with the Paris Agreement's rule book and addressing national development milestones for 2020-2024. The Updated NDC also aimed to translate international commitments into a national context, focusing on transparency and implementation mechanisms.\n",
            "\n",
            "By September 2022, Indonesia submitted an Enhanced NDC, which increased the emission reduction target from 29% to 31.89% unconditionally and from 41% to 43.20% conditionally. This Enhanced NDC represents a transition towards Indonesia's Second NDC, which aims for net-zero emissions by 2060 or sooner, aligning with the Long-Term Low Carbon and Climate Resilience Strategy (LTS-LCCR) for 2050.\n",
            "\n",
            "Overall, the differences in Indonesia's climate targets and NDCs reflect a progressive enhancement in ambition, clarity, and alignment with international frameworks, with a strong focus on multi-sectoral approaches and stakeholder engagement.\n",
            "========================\n",
            "\n",
            "Got output: Indonesia's climate targets and Nationally Determined Contributions (NDCs) have shown significant evolution over time, reflecting a growing commitment to addressing climate change. Here are the key differences:\n",
            "\n",
            "1. **Initial Targets**: The first Intended Nationally Determined Contribution (INDC) set a baseline with a Business as Usual (BAU) scenario of 2.881 GtCO2-eq, which was slightly adjusted to 2.869 GtCO2-eq in the subsequent NDC.\n",
            "\n",
            "2. **Sector Focus**: The NDC emphasized major mitigation targets in the forest, land use, and energy sectors, which together account for about 97% of Indonesia's national commitment.\n",
            "\n",
            "3. **Updated NDC (2021)**: An Updated NDC was submitted in 2021, showcasing enhanced ambition in adaptation strategies and clearer mitigation efforts. This update aimed to align with the Paris Agreement's rules and address national development goals for 2020-2024.\n",
            "\n",
            "4. **Enhanced NDC (2022)**: By September 2022, Indonesia submitted an Enhanced NDC, increasing the emission reduction target from 29% to 31.89% unconditionally and from 41% to 43.20% conditionally.\n",
            "\n",
            "5. **Long-Term Goals**: The Enhanced NDC represents a transition towards Indonesia's Second NDC, which aims for net-zero emissions by 2060 or sooner, in line with the Long-Term Low Carbon and Climate Resilience Strategy (LTS-LCCR) for 2050.\n",
            "\n",
            "Overall, the differences in Indonesia's climate targets and NDCs reflect a progressive enhancement in ambition, clarity, and alignment with international frameworks, focusing on multi-sectoral approaches and stakeholder engagement.\n",
            "========================\n",
            "\n"
          ]
        }
      ],
      "source": [
        "response = top_agent.query(\n",
        "    \"Tell me the differences between Malaysia's and Indonesia's NDCs in terms of\"\n",
        "    \" meeting their climate targets.\"\n",
        ")"
      ]
    },
    {
      "cell_type": "code",
      "execution_count": 27,
      "id": "98540ec5-093d-41a0-888b-246ee7093cff",
      "metadata": {
        "id": "98540ec5-093d-41a0-888b-246ee7093cff",
        "outputId": "5d272913-9ec6-4ec6-851e-9096903f85ec"
      },
      "outputs": [
        {
          "name": "stdout",
          "output_type": "stream",
          "text": [
            "The differences between Malaysia's and Indonesia's Nationally Determined Contributions (NDCs) in terms of meeting their climate targets are as follows:\n",
            "\n",
            "### Malaysia's NDCs:\n",
            "1. **Carbon Intensity Reduction**: Malaysia's updated NDC commits to reducing economy-wide carbon intensity by 45% by 2030 compared to 2005 levels, which is a 10% increase from the previous submission.\n",
            "2. **Greenhouse Gas Coverage**: The updated NDC expands the coverage to include seven greenhouse gases: carbon dioxide, methane, nitrous oxide, hydrofluorocarbons, perfluorocarbons, sulfur hexafluoride, and nitrogen trifluoride.\n",
            "3. **Economic Context**: The NDC is aligned with Malaysia's national circumstances, particularly considering the significance of the oil and gas industry to its economy.\n",
            "4. **Unconditional Commitment**: Malaysia's NDC is unconditional, meaning it will pursue these targets through domestic measures without relying on international cooperation.\n",
            "\n",
            "### Indonesia's NDCs:\n",
            "1. **Initial and Updated Targets**: Indonesia's first Intended Nationally Determined Contribution (INDC) set a baseline with a Business as Usual (BAU) scenario of 2.881 GtCO2-eq, which was slightly adjusted in subsequent NDCs.\n",
            "2. **Sector Focus**: The NDC emphasizes major mitigation targets in the forest, land use, and energy sectors, which account for about 97% of Indonesia's national commitment.\n",
            "3. **Enhanced Ambition**: The Enhanced NDC submitted in 2022 increased the emission reduction target from 29% to 31.89% unconditionally and from 41% to 43.20% conditionally.\n",
            "4. **Long-Term Goals**: Indonesia's NDC represents a transition towards net-zero emissions by 2060 or sooner, aligning with its Long-Term Low Carbon and Climate Resilience Strategy (LTS-LCCR) for 2050.\n",
            "\n",
            "### Summary:\n",
            "- **Malaysia** focuses on a significant reduction in carbon intensity and has a more straightforward, unconditional commitment, reflecting its economic context.\n",
            "- **Indonesia** shows a progressive enhancement in ambition, with a multi-sectoral approach and a clear long-term goal of net-zero emissions, indicating a broader commitment to climate action.\n"
          ]
        }
      ],
      "source": [
        "print(str(response))"
      ]
    }
  ],
  "metadata": {
    "colab": {
      "provenance": []
    },
    "kernelspec": {
      "display_name": ".venv",
      "language": "python",
      "name": "python3"
    },
    "language_info": {
      "codemirror_mode": {
        "name": "ipython",
        "version": 3
      },
      "file_extension": ".py",
      "mimetype": "text/x-python",
      "name": "python",
      "nbconvert_exporter": "python",
      "pygments_lexer": "ipython3",
      "version": "3.12.6"
    }
  },
  "nbformat": 4,
  "nbformat_minor": 5
}
